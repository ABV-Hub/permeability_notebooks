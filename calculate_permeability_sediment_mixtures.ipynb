{
 "cells": [
  {
   "cell_type": "markdown",
   "metadata": {},
   "source": [
    "# Calculate permeability of sand-clay mixtures\n",
    "\n",
    "Calculate permeability of sediment mixtures (ie mixtures of clay and granular material (sand, silt) and compare with emasured values. The calculation of permeability uses a series of equations by Luijendijk and Gleeson (2015, Geofluids 15, or Crustal permeability book chapter 2016) ([link](https://onlinelibrary.wiley.com/doi/full/10.1111/gfl.12115))."
   ]
  },
  {
   "cell_type": "markdown",
   "metadata": {},
   "source": [
    "## Import modules"
   ]
  },
  {
   "cell_type": "code",
   "execution_count": 47,
   "metadata": {},
   "outputs": [],
   "source": [
    "import string\n",
    "import numpy as np\n",
    "import pandas as pd\n",
    "import os\n",
    "import matplotlib.pyplot as pl"
   ]
  },
  {
   "cell_type": "markdown",
   "metadata": {},
   "source": [
    "## Select dataset:"
   ]
  },
  {
   "cell_type": "code",
   "execution_count": 48,
   "metadata": {},
   "outputs": [],
   "source": [
    "# file containing porosity & permeability data\n",
    "# uncomment (remove the # sign) one of the filenames below:\n",
    "\n",
    "# pure sand (Fountainbleau sandstone, Bourbie & Zinsner 1985):\n",
    "#fn = 'data/porperm_Bourbie1985_Fontainebleau_sandstone.csv'\n",
    "\n",
    "# pure clay, compilation of clay permeability data from different data sources (Olsen 1966; Mesri & Olson 1971; Al-Tabbaa & Wood 1987; Vasseur et al. 1995)\n",
    "#fn = 'data/porperm_compilation_clays.csv'\n",
    "\n",
    "# lab-mixed kaolinite & sand by Knoll (1996):\n",
    "fn = 'data/porperm_kaoline_sand_mix_Knoll1996.csv'\n",
    "\n",
    "# mixed sediments from the Roer Valley Graben:\n",
    "#fn = 'data/porperm_data_well_AST02_with_spec_surf.csv'\n",
    "\n",
    "# example dataset using a sample from IODP leg ...:\n",
    "#fn = 'data/example_dataset_seafloor_sediments_with_spec_surf.csv'\n",
    "\n"
   ]
  },
  {
   "cell_type": "markdown",
   "metadata": {},
   "source": [
    "## Define some parameters"
   ]
  },
  {
   "cell_type": "code",
   "execution_count": 49,
   "metadata": {},
   "outputs": [],
   "source": [
    "\n",
    "# percolation threshold for porosity, used for calculating effective porosity for Kozeny-Carman equation\n",
    "phi_threshold = 0.025\n",
    "\n",
    "# Kozeny-Carman constant\n",
    "C = 5.0\n",
    "\n",
    "# density of rock matrix and pore water\n",
    "rho_s = 2650.0\n",
    "rho_w = 1025.0\n",
    "\n",
    "# empirical constants for permeability-void ratio equation for kaolinite, illite, smectite\n",
    "# these values were calibrated to a compilation of permeability data for different clay minerals\n",
    "# see Luijendijk & Gleeson (2015, Geofluids) for more info\n",
    "clays = ['kaolinite', 'illite', 'smectite']\n",
    "k0_clays = 10 ** np.array([-16.21014136, -18.81362945, -20.92831503])\n",
    "m_clays = np.array([3.60952787, 3.57637639, 3.01368043])\n",
    "\n",
    "# note that for the Knoll (1996) dataset one should use a much higher reference (k0) permeability for kaolinite. The reason for this is unknown:\n",
    "if 'Knoll1996' in fn:\n",
    "    k0_clays[0] = 10 ** (np.log10(k0_clays[0]) + 0.78)\n",
    "\n",
    "# power mean exponent. \n",
    "# This governs if the permeability of the sediment mixture is calculated as the harmonic mean, geometric mean or arithmetic mean, \n",
    "# or something in between. Use p=-1 for harmonic mean, p=0 for geometric mean or p=1 for arithmetic mean\n",
    "# Luijendijk and Gleeson (2015) suggest that p=0 would be the best value for first order estiamtes of permeability vairation\n",
    "# however this has only been tested on a relatively small dataset, and it may be dependent on the type and size of samples, internal structure of samples,\n",
    "# depositional environments etc...\n",
    "power_mean_exponent = 0.0\n",
    "\n",
    "# colormap, see here for some other option: https://matplotlib.org/users/colormaps.html\n",
    "cmap = 'copper_r'\n",
    "\n",
    "# type of figure to save. you can choose png, svg, pdf, jpg etc.. see matplotlib savefig documentation for more info\n",
    "figure_extension = 'png'"
   ]
  },
  {
   "cell_type": "code",
   "execution_count": 50,
   "metadata": {},
   "outputs": [
    {
     "data": {
      "text/plain": [
       "2.2379925681278053e-15"
      ]
     },
     "execution_count": 50,
     "metadata": {},
     "output_type": "execute_result"
    }
   ],
   "source": [
    "k0_clays_mod = 10 ** (np.log10(k0_clays[0]) + 0.78)\n",
    "k0_clays_mod"
   ]
  },
  {
   "cell_type": "markdown",
   "metadata": {},
   "source": [
    "## Load porosity, clay content, clay type and specific surface data"
   ]
  },
  {
   "cell_type": "code",
   "execution_count": 51,
   "metadata": {},
   "outputs": [
    {
     "data": {
      "text/html": [
       "<div>\n",
       "<style scoped>\n",
       "    .dataframe tbody tr th:only-of-type {\n",
       "        vertical-align: middle;\n",
       "    }\n",
       "\n",
       "    .dataframe tbody tr th {\n",
       "        vertical-align: top;\n",
       "    }\n",
       "\n",
       "    .dataframe thead th {\n",
       "        text-align: right;\n",
       "    }\n",
       "</style>\n",
       "<table border=\"1\" class=\"dataframe\">\n",
       "  <thead>\n",
       "    <tr style=\"text-align: right;\">\n",
       "      <th></th>\n",
       "      <th>sample</th>\n",
       "      <th>clay_fraction</th>\n",
       "      <th>porosity</th>\n",
       "      <th>permeability_measured</th>\n",
       "      <th>kaolinite_fraction</th>\n",
       "      <th>illite_fraction</th>\n",
       "      <th>smectite_fraction</th>\n",
       "      <th>specific_surface_granular_fraction</th>\n",
       "    </tr>\n",
       "  </thead>\n",
       "  <tbody>\n",
       "    <tr>\n",
       "      <th>0</th>\n",
       "      <td>1</td>\n",
       "      <td>0.000</td>\n",
       "      <td>0.399</td>\n",
       "      <td>4.400000e-10</td>\n",
       "      <td>1</td>\n",
       "      <td>0</td>\n",
       "      <td>0</td>\n",
       "      <td>4.7</td>\n",
       "    </tr>\n",
       "    <tr>\n",
       "      <th>1</th>\n",
       "      <td>2</td>\n",
       "      <td>0.062</td>\n",
       "      <td>0.359</td>\n",
       "      <td>7.500000e-13</td>\n",
       "      <td>1</td>\n",
       "      <td>0</td>\n",
       "      <td>0</td>\n",
       "      <td>4.7</td>\n",
       "    </tr>\n",
       "    <tr>\n",
       "      <th>2</th>\n",
       "      <td>3</td>\n",
       "      <td>0.129</td>\n",
       "      <td>0.308</td>\n",
       "      <td>1.600000e-14</td>\n",
       "      <td>1</td>\n",
       "      <td>0</td>\n",
       "      <td>0</td>\n",
       "      <td>4.7</td>\n",
       "    </tr>\n",
       "    <tr>\n",
       "      <th>3</th>\n",
       "      <td>4</td>\n",
       "      <td>0.209</td>\n",
       "      <td>0.238</td>\n",
       "      <td>5.400000e-16</td>\n",
       "      <td>1</td>\n",
       "      <td>0</td>\n",
       "      <td>0</td>\n",
       "      <td>4.7</td>\n",
       "    </tr>\n",
       "    <tr>\n",
       "      <th>4</th>\n",
       "      <td>5</td>\n",
       "      <td>0.372</td>\n",
       "      <td>0.359</td>\n",
       "      <td>7.100000e-16</td>\n",
       "      <td>1</td>\n",
       "      <td>0</td>\n",
       "      <td>0</td>\n",
       "      <td>4.7</td>\n",
       "    </tr>\n",
       "  </tbody>\n",
       "</table>\n",
       "</div>"
      ],
      "text/plain": [
       "   sample  clay_fraction  porosity  permeability_measured  kaolinite_fraction  \\\n",
       "0       1          0.000     0.399           4.400000e-10                   1   \n",
       "1       2          0.062     0.359           7.500000e-13                   1   \n",
       "2       3          0.129     0.308           1.600000e-14                   1   \n",
       "3       4          0.209     0.238           5.400000e-16                   1   \n",
       "4       5          0.372     0.359           7.100000e-16                   1   \n",
       "\n",
       "   illite_fraction  smectite_fraction  specific_surface_granular_fraction  \n",
       "0                0                  0                                 4.7  \n",
       "1                0                  0                                 4.7  \n",
       "2                0                  0                                 4.7  \n",
       "3                0                  0                                 4.7  \n",
       "4                0                  0                                 4.7  "
      ]
     },
     "execution_count": 51,
     "metadata": {},
     "output_type": "execute_result"
    }
   ],
   "source": [
    "df = pd.read_csv(fn)\n",
    "df.head()"
   ]
  },
  {
   "cell_type": "markdown",
   "metadata": {},
   "source": [
    "## Calculate permeabiltiy of clay fraction"
   ]
  },
  {
   "cell_type": "code",
   "execution_count": 52,
   "metadata": {},
   "outputs": [],
   "source": [
    "def calculate_k_clay_exponential(porosity, k0, m):\n",
    "    \n",
    "    \"\"\"\n",
    "    calculate permeability as an exponential function of void ratio \n",
    "    \"\"\"\n",
    "    \n",
    "    void_ratio = porosity / (1.0 - porosity)\n",
    "    \n",
    "    return k0 * void_ratio**m"
   ]
  },
  {
   "cell_type": "code",
   "execution_count": 53,
   "metadata": {},
   "outputs": [],
   "source": [
    "## first calculate permeability for each clay mineral:\n",
    "for clay, k0_clay, m_clay in zip(clays, k0_clays, m_clays):\n",
    "    df['k_%s' % clay] = calculate_k_clay_exponential(df['porosity'], k0_clay, m_clay)\n",
    "    \n",
    "# combine estimates and take the geometric mean:\n",
    "df['k_clay'] = 0\n",
    "for clay in clays:\n",
    "    df['k_clay'] += df['%s_fraction' % clay] * np.log10(df['k_%s' % clay])\n",
    "df['k_clay'] = 10**df['k_clay']"
   ]
  },
  {
   "cell_type": "markdown",
   "metadata": {},
   "source": [
    "## Calculate permeability of granular fraction using the Kozeny-Carman eq."
   ]
  },
  {
   "cell_type": "code",
   "execution_count": 54,
   "metadata": {},
   "outputs": [],
   "source": [
    "def kozeny_carman(phi, C, Sa, rho_s, rho_w, phi_eff):\n",
    "    \n",
    "    \"\"\"\n",
    "    Kozeny-Carman equation\n",
    "    \n",
    "    \"\"\"\n",
    "    #phi_eff = phi - phi_threshold\n",
    "    rho = phi * rho_w + (1.0 - phi) * rho_s\n",
    "    \n",
    "    # calculate specific surface per volume instead of per kg    \n",
    "    Sa_vol = Sa * (1.0 - phi) * rho_s\n",
    "    \n",
    "    # calculate permeability\n",
    "    k = (1.0 / (C * Sa_vol**2)) * phi_eff**3 / (1.0 - phi_eff)**2\n",
    "    \n",
    "    return k"
   ]
  },
  {
   "cell_type": "code",
   "execution_count": 55,
   "metadata": {},
   "outputs": [],
   "source": [
    "phi = df['porosity']\n",
    "phi_eff = df['porosity'] - phi_threshold\n",
    "Sa = df['specific_surface_granular_fraction']\n",
    "df['k_granular'] = kozeny_carman(phi, C, Sa, rho_s, rho_w, phi_eff)"
   ]
  },
  {
   "cell_type": "markdown",
   "metadata": {},
   "source": [
    "## Calculate the permeability of the sediment mixture"
   ]
  },
  {
   "cell_type": "code",
   "execution_count": 56,
   "metadata": {},
   "outputs": [],
   "source": [
    "def power_mean(p, w, k1, k2):\n",
    "\n",
    "    \"\"\"\n",
    "    calculate power mean of two components\n",
    "    reduces to arithmetic mean for p=1 and harmonic mean for p=-1\n",
    "    returns the geomteric mean for p=0\n",
    "\n",
    "    \"\"\"\n",
    "    \n",
    "    if p!=0:\n",
    "        k_calc = (w*k1**p + (1-w)*k2**p)**(1.0/p)\n",
    "    \n",
    "    elif p == 0:\n",
    "        k_calc = np.exp(w*np.log(k1) + (1-w)*np.log(k2))\n",
    "        \n",
    "    # find pure clay samples\n",
    "    ind_sand = w == 0\n",
    "    k_calc[ind_sand] = k2\n",
    "    \n",
    "    # find pure sand samples\n",
    "    ind_clay = w == 1.0\n",
    "    k_calc[ind_clay] = k1\n",
    "    \n",
    "    return k_calc"
   ]
  },
  {
   "cell_type": "code",
   "execution_count": 57,
   "metadata": {},
   "outputs": [
    {
     "name": "stdout",
     "output_type": "stream",
     "text": [
      "added column with calculated permeability values to .csv file:\n"
     ]
    },
    {
     "data": {
      "text/plain": [
       "0    4.764965e-10\n",
       "1    1.004175e-10\n",
       "2    1.587320e-11\n",
       "3    1.317312e-12\n",
       "4    8.058782e-13\n",
       "Name: k_calculated, dtype: float64"
      ]
     },
     "execution_count": 57,
     "metadata": {},
     "output_type": "execute_result"
    }
   ],
   "source": [
    "df['power_mean_exponent'] = power_mean_exponent\n",
    "df['k_calculated'] = power_mean(power_mean_exponent, df['clay_fraction'], df['k_clay'], df['k_granular'])\n",
    "\n",
    "print('added column with calculated permeability values to .csv file:')\n",
    "df['k_calculated'].head()"
   ]
  },
  {
   "cell_type": "markdown",
   "metadata": {},
   "source": [
    "## Save permeability data to a csv file"
   ]
  },
  {
   "cell_type": "code",
   "execution_count": 58,
   "metadata": {},
   "outputs": [
    {
     "name": "stdout",
     "output_type": "stream",
     "text": [
      "saved csv file with calculated permeability as data/porperm_kaoline_sand_mix_Knoll1996_with_calculated_k.csv\n"
     ]
    }
   ],
   "source": [
    "fno = fn[:-4] + '_with_calculated_k.csv'\n",
    "df.to_csv(fno)\n",
    "print('saved csv file with calculated permeability as %s' % fno)"
   ]
  },
  {
   "cell_type": "markdown",
   "metadata": {},
   "source": [
    "## Make some figures of measured vs calculated permeability"
   ]
  },
  {
   "cell_type": "markdown",
   "metadata": {},
   "source": [
    "### Measured vs calculated permeability"
   ]
  },
  {
   "cell_type": "code",
   "execution_count": 59,
   "metadata": {},
   "outputs": [],
   "source": [
    "klims = (np.min(np.log10(df['permeability_measured'])), np.max(np.log10(df['permeability_measured'])))"
   ]
  },
  {
   "cell_type": "code",
   "execution_count": 60,
   "metadata": {},
   "outputs": [
    {
     "name": "stdout",
     "output_type": "stream",
     "text": [
      "saving figure as  figs/porperm_kaoline_sand_mix_Knoll1996_measured_vs_calculated_k.png\n"
     ]
    },
    {
     "data": {
      "image/png": "[encoded data removed]",
      "text/plain": [
       "<matplotlib.figure.Figure at 0x7f36ae8c2b00>"
      ]
     },
     "metadata": {
      "needs_background": "light"
     },
     "output_type": "display_data"
    }
   ],
   "source": [
    "fig, axs = pl.subplots(1, 2, figsize=(10, 5))\n",
    "\n",
    "\n",
    "\n",
    "sckm = axs[0].scatter(df['porosity'], np.log10(df['permeability_measured']), c=df['clay_fraction'], \n",
    "                      vmin=0.0, vmax=1.0, cmap=cmap)\n",
    "\n",
    "sckc = axs[0].scatter(df['porosity'], np.log10(df['k_calculated']), \n",
    "                      edgecolor='gray', facecolor='None', marker='s')\n",
    "\n",
    "legs = [sckm, sckc]\n",
    "labels = [r'Measured', r'Calculated']\n",
    "axs[0].legend(legs, labels, frameon=True, loc='lower right')\n",
    "\n",
    "axs[0].set_xlabel('Porosity')\n",
    "axs[0].set_ylabel(r'Permeability (m$^2$)')\n",
    "\n",
    "#################\n",
    "# second panel:\n",
    "#################\n",
    "sc = axs[1].scatter(np.log10(df['permeability_measured']), np.log10(df['k_calculated']), c=df['clay_fraction'], \n",
    "                    vmin=0.0, vmax=1.0, cmap=cmap)\n",
    "\n",
    "l11 = axs[1].plot(klims, klims, ls='--', color='black')\n",
    "\n",
    "cb = fig.colorbar(sckm, shrink=0.5)\n",
    "cb.set_label('Clay fraction')\n",
    "\n",
    "axs[1].set_xlabel(r'Measured permeability (m$^2$)')\n",
    "axs[1].set_ylabel(r'Calculated permeability (m$^2$)')\n",
    "\n",
    "axs[1].legend([sc, l11[0]], ['Data', '1:1'], loc='lower right', frameon=True)\n",
    "\n",
    "# make the figure look nicer:\n",
    "for i, panel in enumerate(axs):\n",
    "    panel.spines['top'].set_visible(False)\n",
    "    panel.spines['right'].set_visible(False)\n",
    "    panel.text(0.03, 1.0, string.ascii_lowercase[i], \n",
    "            weight='bold', transform=panel.transAxes, ha='left', va='top', fontsize='medium')\n",
    "\n",
    "fn1 = os.path.split(fn)[-1][:-4]\n",
    "fn2 = fn1 + '_measured_vs_calculated_k.%s' % figure_extension\n",
    "fig_fn = os.path.join('figs', fn2)\n",
    "print('saving figure as ', fig_fn)\n",
    "fig.savefig(fig_fn, dpi=300)"
   ]
  },
  {
   "cell_type": "markdown",
   "metadata": {},
   "source": [
    "**Fig caption** *Measured vs calculated permeability using the power mean of the permeability of the granular and clay fractions*"
   ]
  },
  {
   "cell_type": "markdown",
   "metadata": {},
   "source": [
    "### Normalized difference of measured permeability and the theoretical permeability of the granular and clay fractions"
   ]
  },
  {
   "cell_type": "code",
   "execution_count": 61,
   "metadata": {},
   "outputs": [],
   "source": [
    "# calculate k offset using clay composition estimates for datasets\n",
    "df['k_offset'] = \\\n",
    "    (np.log10(df['permeability_measured']) - np.log10(df['k_clay'])) / \\\n",
    "    (np.log10(df['k_granular']) - np.log10(df['k_clay']))"
   ]
  },
  {
   "cell_type": "code",
   "execution_count": 62,
   "metadata": {},
   "outputs": [],
   "source": [
    "# load permeability vs clay content model Revil (2002)\n",
    "dfr = pd.read_csv('data/simulated_k_revil1999_model.csv')"
   ]
  },
  {
   "cell_type": "code",
   "execution_count": 63,
   "metadata": {},
   "outputs": [
    {
     "name": "stdout",
     "output_type": "stream",
     "text": [
      "saving figure as  figs/porperm_kaoline_sand_mix_Knoll1996_normalized_k.png\n"
     ]
    },
    {
     "data": {
      "image/png": "[encoded data removed]",
      "text/plain": [
       "<matplotlib.figure.Figure at 0x7f36ae77bb00>"
      ]
     },
     "metadata": {
      "needs_background": "light"
     },
     "output_type": "display_data"
    }
   ],
   "source": [
    "fig, ax = pl.subplots(1, 1, figsize=(8, 6))\n",
    "\n",
    "# plot data\n",
    "sc = ax.scatter(df['clay_fraction'], df['k_offset'], c=df['clay_fraction'], s=100, lw=2.0, \n",
    "                vmin=0.0, vmax=1.0, cmap=cmap, alpha=0.7)\n",
    "\n",
    "sc.set_facecolor('none')\n",
    "\n",
    "# plot theoretical geometric mean k of clay and sand fractions in panel d\n",
    "w_plot = np.arange(0.01, 0.99, 0.01)\n",
    "k0 = 1\n",
    "k1 = 10\n",
    "geom_mean = power_mean(0.0, w_plot, k0, k1)\n",
    "leg_dfg, = ax.plot(w_plot, np.log10(geom_mean), color='black', ls='-')\n",
    "leg_dfm, = ax.plot(dfr['cv'], dfr['k_normalized_Knoll1996'], color='black', ls='--')\n",
    "\n",
    "# add lines for theoretical permeability pure granular or clay components\n",
    "xmax = 1.0\n",
    "leg_k_sd = ax.axhline(y=1, color='orange', ls='-', lw=1.5, zorder=0)\n",
    "leg_k_cl = ax.axhline(y=0, color='brown', ls='-', lw=1.5, zorder=0)\n",
    "ax.text(xmax - 0.02, 0.98, 'pure sand',\n",
    "          fontsize='small', ha='right', va='top')\n",
    "ax.text(xmax - 0.02, -0.02, 'pure clay',\n",
    "          fontsize='small', ha='right', va='top')\n",
    "\n",
    "# add a colorbar\n",
    "cb = fig.colorbar(sc, shrink=0.5)\n",
    "cb.set_label('Clay fraction')\n",
    "\n",
    "ax.set_xlabel('Clay fraction')\n",
    "ax.set_ylabel('Normalized difference\\npermeability')\n",
    "\n",
    "ylim = ax.get_ylim()\n",
    "if ylim[-1] <= 1.25:\n",
    "    ax.set_ylim(ylim[0], 1.25)\n",
    "\n",
    "# add a legend:\n",
    "legs = [sc, leg_dfm, leg_dfg]\n",
    "labels = ['Data', \n",
    "          'Ideal packing model',\n",
    "          'Geometric mean model']\n",
    "legend = ax.legend(legs, labels,\n",
    "                   fontsize='small',\n",
    "                   ncol=1, numpoints=1, loc='upper right', frameon=False)\n",
    "\n",
    "#\n",
    "ax.spines['top'].set_visible(False)\n",
    "ax.spines['right'].set_visible(False)\n",
    "\n",
    "\n",
    "# save figure\n",
    "fn1 = os.path.split(fn)[-1][:-4]\n",
    "fn2 = fn1 + '_normalized_k.%s' % figure_extension\n",
    "fig_fn = os.path.join('figs', fn2)\n",
    "print('saving figure as ', fig_fn)\n",
    "fig.savefig(fig_fn, dpi=300)"
   ]
  },
  {
   "cell_type": "markdown",
   "metadata": {},
   "source": [
    "**Fig. caption** *Normalized permeability of the permeability dataset compared to two theoretical models, 1) the ideal packing model (Revil 1999, 2002) and 2) the geometric mean model. This is a simplified version of Fig. 5 in Luijendijk & Gleeson (2015)*"
   ]
  }
 ],
 "metadata": {
  "kernelspec": {
   "display_name": "Python 3",
   "language": "python",
   "name": "python3"
  },
  "language_info": {
   "codemirror_mode": {
    "name": "ipython",
    "version": 3
   },
   "file_extension": ".py",
   "mimetype": "text/x-python",
   "name": "python",
   "nbconvert_exporter": "python",
   "pygments_lexer": "ipython3",
   "version": "3.6.8"
  }
 },
 "nbformat": 4,
 "nbformat_minor": 2
}
