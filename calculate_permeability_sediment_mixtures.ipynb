{
 "cells": [
  {
   "cell_type": "markdown",
   "metadata": {},
   "source": [
    "# Calculate permeability of sand-clay mixtures\n",
    "\n",
    "Calculate permeability of sediment mixtures (ie mixtures of clay and granular material (sand, silt) and compare with emasured values. The calculation of permeability uses a series of equations by Luijendijk and Gleeson (2015, Geofluids 15, or Crustal permeability book chapter 2016) ([link](https://onlinelibrary.wiley.com/doi/full/10.1111/gfl.12115))."
   ]
  },
  {
   "cell_type": "markdown",
   "metadata": {},
   "source": [
    "## Import modules"
   ]
  },
  {
   "cell_type": "code",
   "execution_count": 1,
   "metadata": {},
   "outputs": [],
   "source": [
    "import numpy as np\n",
    "import pandas as pd\n",
    "import os\n",
    "import matplotlib.pyplot as pl"
   ]
  },
  {
   "cell_type": "markdown",
   "metadata": {},
   "source": [
    "## Define some parameters"
   ]
  },
  {
   "cell_type": "code",
   "execution_count": 2,
   "metadata": {},
   "outputs": [],
   "source": [
    "# file containing porosity & permeability data\n",
    "fn = 'data/porperm_data_well_AST02_with_spec_surf.csv'\n",
    "#fn = 'data/example_dataset_seafloor_sediments_with_spec_surf.csv'\n",
    "\n",
    "# percolation threshold for porosity, used for calculating effective porosity for Kozeny-Carman equation\n",
    "phi_threshold = 0.025\n",
    "\n",
    "# kozeny-Carman constant\n",
    "C = 5\n",
    "\n",
    "# density of rock matrix and pore water\n",
    "rho_s = 2650.0\n",
    "rho_w = 1025.0\n",
    "\n",
    "# empirical constants for permeability-void ratio equation for kaolinite, illite, smectite\n",
    "# these values were calibrated to a compilation of permeability data for different clay minerals\n",
    "# see Luijendijk & Gleeson (2015, Geofluids) for more info\n",
    "clays = ['kaolinite', 'illite', 'smectite']\n",
    "k0_clays = 10 ** np.array([-16.21014136, -18.81362945, -20.92831503])\n",
    "m_clays = np.array([3.60952787, 3.57637639, 3.01368043])\n",
    "\n",
    "# power mean exponent. \n",
    "# This governs if the permeability of the sediment mixture is calculated as the harmonic mean, geometric mean or arithmetic mean, \n",
    "# or something in between. Use p=-1 for harmonic mean, p=0 for geometric mean or p=1 for arithmetic mean\n",
    "# Luijendijk and Gleeson (2015) suggest that p=0 would be the best value for first order estiamtes of permeability vairation\n",
    "# however this has only been tested on a relatively small dataset, and it may be dependent on the type and size of samples, internal structure of samples,\n",
    "# depositional environments etc...\n",
    "power_mean_exponent = 0.0\n",
    "\n",
    "# type of figure to save. you can choose png, svg, pdf, jpg etc.. see matplotlib savefig documentation for more info\n",
    "figure_extension = 'png'"
   ]
  },
  {
   "cell_type": "markdown",
   "metadata": {},
   "source": [
    "## Load porosity, clay content, clay type and specific surface data"
   ]
  },
  {
   "cell_type": "code",
   "execution_count": 3,
   "metadata": {},
   "outputs": [
    {
     "data": {
      "text/html": [
       "<div>\n",
       "<style scoped>\n",
       "    .dataframe tbody tr th:only-of-type {\n",
       "        vertical-align: middle;\n",
       "    }\n",
       "\n",
       "    .dataframe tbody tr th {\n",
       "        vertical-align: top;\n",
       "    }\n",
       "\n",
       "    .dataframe thead th {\n",
       "        text-align: right;\n",
       "    }\n",
       "</style>\n",
       "<table border=\"1\" class=\"dataframe\">\n",
       "  <thead>\n",
       "    <tr style=\"text-align: right;\">\n",
       "      <th></th>\n",
       "      <th>Unnamed: 0</th>\n",
       "      <th>well</th>\n",
       "      <th>sample_number</th>\n",
       "      <th>depth</th>\n",
       "      <th>strat_unit</th>\n",
       "      <th>strat_unit_Heederik1988</th>\n",
       "      <th>clay_percentage</th>\n",
       "      <th>0-2_micron</th>\n",
       "      <th>2-4_micron</th>\n",
       "      <th>4-8_micron</th>\n",
       "      <th>...</th>\n",
       "      <th>smectite_fraction</th>\n",
       "      <th>mixed_layer_fraction</th>\n",
       "      <th>chlorite_fraction</th>\n",
       "      <th>note</th>\n",
       "      <th>specific_surface_granular_fraction</th>\n",
       "      <th>ln_grainsize_mean</th>\n",
       "      <th>ln_grainsize_std</th>\n",
       "      <th>log10_grainsize_mean</th>\n",
       "      <th>log10_grainsize_std</th>\n",
       "      <th>median_grainsize</th>\n",
       "    </tr>\n",
       "  </thead>\n",
       "  <tbody>\n",
       "    <tr>\n",
       "      <th>0</th>\n",
       "      <td>0</td>\n",
       "      <td>AST-02</td>\n",
       "      <td>79</td>\n",
       "      <td>1517.25</td>\n",
       "      <td>NLLFR</td>\n",
       "      <td>Basaal Zand van Dongen</td>\n",
       "      <td>16.1</td>\n",
       "      <td>16.1</td>\n",
       "      <td>4.8</td>\n",
       "      <td>6.6</td>\n",
       "      <td>...</td>\n",
       "      <td>0.35</td>\n",
       "      <td>NaN</td>\n",
       "      <td>NaN</td>\n",
       "      <td>clay composition estimated</td>\n",
       "      <td>101.068461</td>\n",
       "      <td>-10.271430</td>\n",
       "      <td>1.113890</td>\n",
       "      <td>-4.460825</td>\n",
       "      <td>1.113890</td>\n",
       "      <td>0.000064</td>\n",
       "    </tr>\n",
       "    <tr>\n",
       "      <th>1</th>\n",
       "      <td>1</td>\n",
       "      <td>AST-02</td>\n",
       "      <td>80</td>\n",
       "      <td>1517.75</td>\n",
       "      <td>NLLFR</td>\n",
       "      <td>Basaal Zand van Dongen</td>\n",
       "      <td>13.6</td>\n",
       "      <td>13.6</td>\n",
       "      <td>5.4</td>\n",
       "      <td>12.8</td>\n",
       "      <td>...</td>\n",
       "      <td>0.35</td>\n",
       "      <td>NaN</td>\n",
       "      <td>NaN</td>\n",
       "      <td>clay composition estimated</td>\n",
       "      <td>143.549090</td>\n",
       "      <td>-10.703097</td>\n",
       "      <td>1.101795</td>\n",
       "      <td>-4.648296</td>\n",
       "      <td>1.101795</td>\n",
       "      <td>0.000034</td>\n",
       "    </tr>\n",
       "    <tr>\n",
       "      <th>2</th>\n",
       "      <td>2</td>\n",
       "      <td>AST-02</td>\n",
       "      <td>81</td>\n",
       "      <td>1518.22</td>\n",
       "      <td>NLLFR</td>\n",
       "      <td>Basaal Zand van Dongen</td>\n",
       "      <td>56.7</td>\n",
       "      <td>56.7</td>\n",
       "      <td>0.0</td>\n",
       "      <td>1.6</td>\n",
       "      <td>...</td>\n",
       "      <td>0.35</td>\n",
       "      <td>NaN</td>\n",
       "      <td>NaN</td>\n",
       "      <td>clay composition estimated</td>\n",
       "      <td>24.265495</td>\n",
       "      <td>-9.856121</td>\n",
       "      <td>0.592011</td>\n",
       "      <td>-4.280459</td>\n",
       "      <td>0.592011</td>\n",
       "      <td>0.000063</td>\n",
       "    </tr>\n",
       "    <tr>\n",
       "      <th>3</th>\n",
       "      <td>3</td>\n",
       "      <td>AST-02</td>\n",
       "      <td>82</td>\n",
       "      <td>1518.75</td>\n",
       "      <td>NLLFR</td>\n",
       "      <td>Basaal Zand van Dongen</td>\n",
       "      <td>16.2</td>\n",
       "      <td>16.2</td>\n",
       "      <td>6.4</td>\n",
       "      <td>8.1</td>\n",
       "      <td>...</td>\n",
       "      <td>0.35</td>\n",
       "      <td>NaN</td>\n",
       "      <td>NaN</td>\n",
       "      <td>clay composition estimated</td>\n",
       "      <td>117.839434</td>\n",
       "      <td>-10.345082</td>\n",
       "      <td>1.112403</td>\n",
       "      <td>-4.492812</td>\n",
       "      <td>1.112403</td>\n",
       "      <td>0.000068</td>\n",
       "    </tr>\n",
       "    <tr>\n",
       "      <th>4</th>\n",
       "      <td>4</td>\n",
       "      <td>AST-02</td>\n",
       "      <td>83</td>\n",
       "      <td>1519.25</td>\n",
       "      <td>NLLFR</td>\n",
       "      <td>Basaal Zand van Dongen</td>\n",
       "      <td>16.5</td>\n",
       "      <td>16.5</td>\n",
       "      <td>6.9</td>\n",
       "      <td>12.6</td>\n",
       "      <td>...</td>\n",
       "      <td>0.35</td>\n",
       "      <td>NaN</td>\n",
       "      <td>NaN</td>\n",
       "      <td>clay composition estimated</td>\n",
       "      <td>148.004649</td>\n",
       "      <td>-10.629948</td>\n",
       "      <td>1.034580</td>\n",
       "      <td>-4.616528</td>\n",
       "      <td>1.034580</td>\n",
       "      <td>0.000034</td>\n",
       "    </tr>\n",
       "  </tbody>\n",
       "</table>\n",
       "<p>5 rows × 64 columns</p>\n",
       "</div>"
      ],
      "text/plain": [
       "   Unnamed: 0    well  sample_number    depth strat_unit  \\\n",
       "0           0  AST-02             79  1517.25      NLLFR   \n",
       "1           1  AST-02             80  1517.75      NLLFR   \n",
       "2           2  AST-02             81  1518.22      NLLFR   \n",
       "3           3  AST-02             82  1518.75      NLLFR   \n",
       "4           4  AST-02             83  1519.25      NLLFR   \n",
       "\n",
       "  strat_unit_Heederik1988  clay_percentage  0-2_micron  2-4_micron  \\\n",
       "0  Basaal Zand van Dongen             16.1        16.1         4.8   \n",
       "1  Basaal Zand van Dongen             13.6        13.6         5.4   \n",
       "2  Basaal Zand van Dongen             56.7        56.7         0.0   \n",
       "3  Basaal Zand van Dongen             16.2        16.2         6.4   \n",
       "4  Basaal Zand van Dongen             16.5        16.5         6.9   \n",
       "\n",
       "   4-8_micron        ...         smectite_fraction  mixed_layer_fraction  \\\n",
       "0         6.6        ...                      0.35                   NaN   \n",
       "1        12.8        ...                      0.35                   NaN   \n",
       "2         1.6        ...                      0.35                   NaN   \n",
       "3         8.1        ...                      0.35                   NaN   \n",
       "4        12.6        ...                      0.35                   NaN   \n",
       "\n",
       "   chlorite_fraction                        note  \\\n",
       "0                NaN  clay composition estimated   \n",
       "1                NaN  clay composition estimated   \n",
       "2                NaN  clay composition estimated   \n",
       "3                NaN  clay composition estimated   \n",
       "4                NaN  clay composition estimated   \n",
       "\n",
       "   specific_surface_granular_fraction  ln_grainsize_mean  ln_grainsize_std  \\\n",
       "0                          101.068461         -10.271430          1.113890   \n",
       "1                          143.549090         -10.703097          1.101795   \n",
       "2                           24.265495          -9.856121          0.592011   \n",
       "3                          117.839434         -10.345082          1.112403   \n",
       "4                          148.004649         -10.629948          1.034580   \n",
       "\n",
       "   log10_grainsize_mean  log10_grainsize_std  median_grainsize  \n",
       "0             -4.460825             1.113890          0.000064  \n",
       "1             -4.648296             1.101795          0.000034  \n",
       "2             -4.280459             0.592011          0.000063  \n",
       "3             -4.492812             1.112403          0.000068  \n",
       "4             -4.616528             1.034580          0.000034  \n",
       "\n",
       "[5 rows x 64 columns]"
      ]
     },
     "execution_count": 3,
     "metadata": {},
     "output_type": "execute_result"
    }
   ],
   "source": [
    "df = pd.read_csv(fn)\n",
    "df.head()"
   ]
  },
  {
   "cell_type": "markdown",
   "metadata": {},
   "source": [
    "## Calculate permeabiltiy of clay fraction"
   ]
  },
  {
   "cell_type": "code",
   "execution_count": 4,
   "metadata": {},
   "outputs": [],
   "source": [
    "def calculate_k_clay_exponential(porosity, k0, m):\n",
    "    \n",
    "    \"\"\"\n",
    "    calculate permeability as an exponential function of void ratio \n",
    "    \"\"\"\n",
    "    \n",
    "    void_ratio = porosity / (1.0 - porosity)\n",
    "    \n",
    "    return k0 * void_ratio**m"
   ]
  },
  {
   "cell_type": "code",
   "execution_count": 5,
   "metadata": {},
   "outputs": [],
   "source": [
    "## first calculate permeability for each clay mineral:\n",
    "for clay, k0_clay, m_clay in zip(clays, k0_clays, m_clays):\n",
    "    df['k_%s' % clay] = calculate_k_clay_exponential(df['clay_fraction'], k0_clay, m_clay)\n",
    "    \n",
    "# combine estimates and take the geometric mean:\n",
    "df['k_clay'] = 0\n",
    "for clay in clays:\n",
    "    df['k_clay'] += df['%s_fraction' % clay] * np.log10(df['k_%s' % clay])\n",
    "df['k_clay'] = 10**df['k_clay']"
   ]
  },
  {
   "cell_type": "markdown",
   "metadata": {},
   "source": [
    "## Calculate permeability of granular fraction using the Kozeny-Carman eq."
   ]
  },
  {
   "cell_type": "code",
   "execution_count": 6,
   "metadata": {},
   "outputs": [],
   "source": [
    "def kozeny_carman(phi, C, Sa, rho_s, rho_w, phi_eff):\n",
    "    \n",
    "    \"\"\"\n",
    "    Kozeny-Carman equation\n",
    "    \n",
    "    \"\"\"\n",
    "    #phi_eff = phi - phi_threshold\n",
    "    rho = phi * rho_w + (1.0 - phi) * rho_s\n",
    "    \n",
    "    # calculate specific surface per volume instead of per kg    \n",
    "    Sa_vol = Sa * (1.0 - phi) * rho_s\n",
    "    \n",
    "    # calculate permeability\n",
    "    k = (1.0 / (C * Sa_vol**2)) * phi_eff**3 / (1.0 - phi_eff)**2\n",
    "    \n",
    "    return k"
   ]
  },
  {
   "cell_type": "code",
   "execution_count": 7,
   "metadata": {},
   "outputs": [],
   "source": [
    "phi = df['porosity']\n",
    "phi_eff = df['porosity'] - phi_threshold\n",
    "Sa = df['specific_surface_granular_fraction']\n",
    "df['k_granular'] = kozeny_carman(phi, C, Sa, rho_s, rho_w, phi_eff)"
   ]
  },
  {
   "cell_type": "markdown",
   "metadata": {},
   "source": [
    "## Calculate the permeability of the sediment mixture"
   ]
  },
  {
   "cell_type": "code",
   "execution_count": 8,
   "metadata": {},
   "outputs": [],
   "source": [
    "def power_mean(p, w, k1, k2):\n",
    "\n",
    "    \"\"\"\n",
    "    calculate power mean of two components\n",
    "    reduces to arithmetic mean for p=1 and harmonic mean for p=-1\n",
    "    returns the geomteric mean for p=0\n",
    "\n",
    "    \"\"\"\n",
    "    \n",
    "    if p!=0:\n",
    "        return (w*k1**p + (1-w)*k2**p)**(1.0/p)\n",
    "    \n",
    "    elif p == 0:\n",
    "        return np.exp(w*np.log(k1) + (1-w)*np.log(k2))"
   ]
  },
  {
   "cell_type": "code",
   "execution_count": 9,
   "metadata": {},
   "outputs": [
    {
     "name": "stdout",
     "output_type": "stream",
     "text": [
      "added column with calculated permeability values to .csv file:\n"
     ]
    },
    {
     "data": {
      "text/plain": [
       "0    3.520872e-15\n",
       "1    5.402162e-15\n",
       "2    2.760256e-16\n",
       "3    5.257654e-15\n",
       "4    1.590212e-15\n",
       "Name: k_calculated, dtype: float64"
      ]
     },
     "execution_count": 9,
     "metadata": {},
     "output_type": "execute_result"
    }
   ],
   "source": [
    "df['power_mean_exponent'] = power_mean_exponent\n",
    "df['k_calculated'] = power_mean(power_mean_exponent, df['clay_fraction'], df['k_clay'], df['k_granular'])\n",
    "\n",
    "print('added column with calculated permeability values to .csv file:')\n",
    "df['k_calculated'].head()"
   ]
  },
  {
   "cell_type": "markdown",
   "metadata": {},
   "source": [
    "## Save permeability data to a csv file"
   ]
  },
  {
   "cell_type": "code",
   "execution_count": 10,
   "metadata": {},
   "outputs": [
    {
     "name": "stdout",
     "output_type": "stream",
     "text": [
      "saved csv file with calculated permeability as data/porperm_data_well_AST02_with_spec_surf_with_calculated_k.csv\n"
     ]
    }
   ],
   "source": [
    "fno = fn[:-4] + '_with_calculated_k.csv'\n",
    "df.to_csv(fno)\n",
    "print('saved csv file with calculated permeability as %s' % fno)"
   ]
  },
  {
   "cell_type": "markdown",
   "metadata": {},
   "source": [
    "## Make some figures of measured vs calculated permeability"
   ]
  },
  {
   "cell_type": "markdown",
   "metadata": {},
   "source": [
    "### Measured vs calculated permeability"
   ]
  },
  {
   "cell_type": "code",
   "execution_count": 11,
   "metadata": {},
   "outputs": [],
   "source": [
    "klims = (np.min(np.log10(df['permeability_measured'])), np.max(np.log10(df['permeability_measured'])))"
   ]
  },
  {
   "cell_type": "code",
   "execution_count": 12,
   "metadata": {},
   "outputs": [
    {
     "name": "stdout",
     "output_type": "stream",
     "text": [
      "saving figure as  figs/porperm_data_well_AST02_with_spec_surf_measured_vs_calculated_k.png\n"
     ]
    },
    {
     "data": {
      "image/png": "[encoded data removed]",
      "text/plain": [
       "<matplotlib.figure.Figure at 0x7fa284e3a278>"
      ]
     },
     "metadata": {
      "needs_background": "light"
     },
     "output_type": "display_data"
    }
   ],
   "source": [
    "fig, ax = pl.subplots(1, 1, figsize=(8, 6))\n",
    "sc = ax.scatter(np.log10(df['permeability_measured']), np.log10(df['k_calculated']), c=df['clay_fraction'])\n",
    "\n",
    "l11 = ax.plot(klims, klims, ls='--', color='black')\n",
    "\n",
    "cb = fig.colorbar(sc, shrink=0.5)\n",
    "cb.set_label('Clay fraction')\n",
    "\n",
    "ax.set_xlabel('Measured permeability (m^2)')\n",
    "ax.set_ylabel('Calculated permeability (m^2)')\n",
    "\n",
    "ax.legend([sc, l11[0]], ['Data', '1:1'], loc='upper left', frameon=False)\n",
    "\n",
    "fn1 = os.path.split(fn)[-1][:-4]\n",
    "fn2 = fn1 + '_measured_vs_calculated_k.%s' % figure_extension\n",
    "fig_fn = os.path.join('figs', fn2)\n",
    "print('saving figure as ', fig_fn)\n",
    "fig.savefig(fig_fn, dpi=300)"
   ]
  },
  {
   "cell_type": "markdown",
   "metadata": {},
   "source": [
    "**Fig caption** *Measurred vs calculated permeability using the power mean of the permeability of the granular and clay fractions*"
   ]
  },
  {
   "cell_type": "markdown",
   "metadata": {},
   "source": [
    "### Normalized difference of measured permeability and the theoretical permeability of the granular and clay fractions"
   ]
  },
  {
   "cell_type": "code",
   "execution_count": 13,
   "metadata": {},
   "outputs": [],
   "source": [
    "# calculate k offset using clay composition estimates for datasets\n",
    "df['k_offset'] = \\\n",
    "    (np.log10(df['permeability_measured']) - np.log10(df['k_clay'])) / \\\n",
    "    (np.log10(df['k_granular']) - np.log10(df['k_clay']))"
   ]
  },
  {
   "cell_type": "code",
   "execution_count": 14,
   "metadata": {},
   "outputs": [],
   "source": [
    "# load permeability vs clay content model Revil (2002)\n",
    "dfr = pd.read_csv('data/simulated_k_revil1999_model.csv')"
   ]
  },
  {
   "cell_type": "code",
   "execution_count": 15,
   "metadata": {},
   "outputs": [
    {
     "name": "stdout",
     "output_type": "stream",
     "text": [
      "saving figure as  figs/porperm_data_well_AST02_with_spec_surf_normalized_k.png\n"
     ]
    },
    {
     "data": {
      "image/png": "[encoded data removed]",
      "text/plain": [
       "<matplotlib.figure.Figure at 0x7fa283cf6a20>"
      ]
     },
     "metadata": {
      "needs_background": "light"
     },
     "output_type": "display_data"
    }
   ],
   "source": [
    "fig, ax = pl.subplots(1, 1, figsize=(8, 6))\n",
    "\n",
    "# plot data\n",
    "sc = ax.scatter(df['clay_fraction'], df['k_offset'], c=df['clay_fraction'])\n",
    "\n",
    "# plot theoretical geometric mean k of clay and sand fractions in panel d\n",
    "w_plot = np.arange(0.01, 0.99, 0.01)\n",
    "k0 = 1\n",
    "k1 = 10\n",
    "geom_mean = power_mean(0.0, w_plot, k0, k1)\n",
    "leg_dfg, = ax.plot(w_plot, np.log10(geom_mean), color='black', ls='-')\n",
    "leg_dfm, = ax.plot(dfr['cv'], dfr['k_normalized_Knoll1996'], color='black', ls='--')\n",
    "\n",
    "# add lines for theoretical permeability pure granular or clay components\n",
    "xmax = 1.0\n",
    "leg_k_sd = ax.axhline(y=1, color='orange', ls='-', lw=1.5, zorder=0)\n",
    "leg_k_cl = ax.axhline(y=0, color='brown', ls='-', lw=1.5, zorder=0)\n",
    "ax.text(xmax - 0.02, 0.98, 'pure sand',\n",
    "          fontsize='small', ha='right', va='top')\n",
    "ax.text(xmax - 0.02, -0.02, 'pure clay',\n",
    "          fontsize='small', ha='right', va='top')\n",
    "\n",
    "# add a colorbar\n",
    "cb = fig.colorbar(sc, shrink=0.5)\n",
    "cb.set_label('Clay fraction')\n",
    "\n",
    "ax.set_xlabel('Clay fraction')\n",
    "ax.set_ylabel('Normalized difference\\npermeability')\n",
    "\n",
    "# add a legend:\n",
    "legs = [sc, leg_dfm, leg_dfg]\n",
    "labels = ['Data', \n",
    "          'Ideal packing model',\n",
    "          'Geometric mean model']\n",
    "legend = ax.legend(legs, labels,\n",
    "                   fontsize='x-small',\n",
    "                   ncol=1, numpoints=1, loc='upper right', frameon=False)\n",
    "\n",
    "\n",
    "# save figure\n",
    "fn1 = os.path.split(fn)[-1][:-4]\n",
    "fn2 = fn1 + '_normalized_k.%s' % figure_extension\n",
    "fig_fn = os.path.join('figs', fn2)\n",
    "print('saving figure as ', fig_fn)\n",
    "fig.savefig(fig_fn, dpi=300)"
   ]
  },
  {
   "cell_type": "markdown",
   "metadata": {},
   "source": [
    "**Fig. caption** *Normalized permeability of the permeability dataset compared to two theoretical models, 1) the ideal packing model (Revil 1999, 2002) and 2) the geometric mean model. This is a simplified version of Fig. 5 in Luijendijk & Gleeson (2015)*"
   ]
  },
  {
   "cell_type": "code",
   "execution_count": null,
   "metadata": {},
   "outputs": [],
   "source": []
  }
 ],
 "metadata": {
  "kernelspec": {
   "display_name": "Python 3",
   "language": "python",
   "name": "python3"
  },
  "language_info": {
   "codemirror_mode": {
    "name": "ipython",
    "version": 3
   },
   "file_extension": ".py",
   "mimetype": "text/x-python",
   "name": "python",
   "nbconvert_exporter": "python",
   "pygments_lexer": "ipython3",
   "version": "3.6.8"
  }
 },
 "nbformat": 4,
 "nbformat_minor": 2
}
