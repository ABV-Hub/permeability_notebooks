{
 "cells": [
  {
   "cell_type": "markdown",
   "metadata": {},
   "source": [
    "# Estimate specific surface using grain size distribution data\n",
    "\n",
    "Loads grains size distributions from a .csv file and calculate grain size statistics and specific surface following eq. 2 in Luijendijk and Gleeson (2015, Geofluids 15, or Crustal permeability book chapter 2016) ([link](https://onlinelibrary.wiley.com/doi/full/10.1111/gfl.12115)).\n",
    "\n",
    "and example csv file that contains grain size data from a borehole in the southern netherlands is located in the subdirectory data [here](data/porperm_data_well_AST02.csv).\n",
    "\n",
    "the column headers should includde the grain size bins and should be formatted like ``2-4_micron``. The first and last columns to be included in the grain size calculation should be specified in the notebook below.\n",
    "\n",
    "Note that to use the separate notebook to calculate permeability of sediment mixtures one should calculate the specific surface of the granular fraction only and exclude the clay fraction. This is usually done by excluding grains that are smaller than 2 micron, although this may not be 100% correct in all cases."
   ]
  },
  {
   "cell_type": "markdown",
   "metadata": {},
   "source": [
    "## Import Python modules\n"
   ]
  },
  {
   "cell_type": "code",
   "execution_count": 38,
   "metadata": {},
   "outputs": [],
   "source": [
    "import math\n",
    "import os\n",
    "import numpy as np\n",
    "import scipy.stats\n",
    "import pandas as pd\n",
    "import matplotlib.pyplot as pl"
   ]
  },
  {
   "cell_type": "markdown",
   "metadata": {},
   "source": [
    "## Set up a function to calculate specific surface"
   ]
  },
  {
   "cell_type": "code",
   "execution_count": 39,
   "metadata": {},
   "outputs": [],
   "source": [
    "def calculate_specific_surface_discrete(grain_size, freq, rho_s):\n",
    "    \n",
    "    \"\"\"\n",
    "    calculate specific surface\n",
    "    eq. ... in \n",
    "    \"\"\"\n",
    "    \n",
    "    ss = 6.0 / rho_s * (freq / grain_size).sum()\n",
    "    \n",
    "    return ss"
   ]
  },
  {
   "cell_type": "markdown",
   "metadata": {},
   "source": [
    "## Define density of sediment matrix:"
   ]
  },
  {
   "cell_type": "code",
   "execution_count": 40,
   "metadata": {},
   "outputs": [],
   "source": [
    "rho_s = 2650.0"
   ]
  },
  {
   "cell_type": "markdown",
   "metadata": {},
   "source": [
    "## load grain size data well AST-02"
   ]
  },
  {
   "cell_type": "code",
   "execution_count": 41,
   "metadata": {},
   "outputs": [],
   "source": [
    "filename = 'data/porperm_data_well_AST02.csv'"
   ]
  },
  {
   "cell_type": "code",
   "execution_count": 42,
   "metadata": {},
   "outputs": [],
   "source": [
    "df = pd.read_csv(filename)"
   ]
  },
  {
   "cell_type": "markdown",
   "metadata": {},
   "source": [
    "## Specify first and last columns with grain size data:"
   ]
  },
  {
   "cell_type": "code",
   "execution_count": 43,
   "metadata": {},
   "outputs": [],
   "source": [
    "first_gs_col = '2-4_micron'\n",
    "last_gs_col = '1680-2000_micron'"
   ]
  },
  {
   "cell_type": "markdown",
   "metadata": {},
   "source": [
    "## find columns with grain size data"
   ]
  },
  {
   "cell_type": "code",
   "execution_count": 44,
   "metadata": {},
   "outputs": [],
   "source": [
    "cols = df.columns.tolist()\n",
    "grain_size_ind1 = cols.index(first_gs_col)\n",
    "grain_size_ind2 = cols.index(last_gs_col)+1"
   ]
  },
  {
   "cell_type": "markdown",
   "metadata": {},
   "source": [
    "## Go through columns and get grain size data:"
   ]
  },
  {
   "cell_type": "code",
   "execution_count": 45,
   "metadata": {},
   "outputs": [],
   "source": [
    "gs_bin_min = [col.split('-')[0] for col in cols[grain_size_ind1:grain_size_ind2]]\n",
    "gs_bin_max = [col.split('-')[1].split('_')[0] for col in cols[grain_size_ind1:grain_size_ind2]]\n",
    "\n",
    "gs_bin_min = np.array(gs_bin_min).astype(float)\n",
    "gs_bin_max = np.array(gs_bin_max).astype(float)\n",
    "\n",
    "gs_bin_mean = (np.array(gs_bin_min).astype(float) + np.array(gs_bin_max).astype(float)) / 2.0"
   ]
  },
  {
   "cell_type": "markdown",
   "metadata": {},
   "source": [
    "## Calculate specific surface:"
   ]
  },
  {
   "cell_type": "code",
   "execution_count": 46,
   "metadata": {},
   "outputs": [],
   "source": [
    "df['specific_surface_granular_fraction'] = 0.0\n",
    "\n",
    "# calculate specific surface from grain size distribution\n",
    "for row in df.iterrows():\n",
    "    \n",
    "    gs = row[1][grain_size_ind1:grain_size_ind2].values.astype(float) / 100.0\n",
    "    df.loc[row[0], 'specific_surface_granular_fraction'] = calculate_specific_surface_discrete(gs_bin_mean * 1.0e-6, gs, rho_s)"
   ]
  },
  {
   "cell_type": "markdown",
   "metadata": {},
   "source": [
    "## Calculate statistics grain size distributions\n",
    "\n",
    "Not used for calculating specific surface, but may be useful for later analysis\n",
    "\n",
    "FOr each sample 1000 monte carlo realizations are gneerated to reflect the unknown distribution of grainsizes within bins\n"
   ]
  },
  {
   "cell_type": "code",
   "execution_count": 47,
   "metadata": {},
   "outputs": [],
   "source": [
    "for row in df.iterrows():\n",
    "\n",
    "    # create synthetic grain size sample\n",
    "    realizations = []\n",
    "    freq = row[1][grain_size_ind1:grain_size_ind2].values.astype(float)[:-1]\n",
    "    if True not in np.isnan(freq):\n",
    "        \n",
    "        # generate realizations:\n",
    "        for gs1, gs2, f in zip(gs_bin_min * 1e-6, gs_bin_max * 1e-6, freq * 1000.0):\n",
    "            realizations += [np.random.random() * (gs2 - gs1) + gs1] * int(f)\n",
    "        realizations = np.array(realizations)\n",
    "        \n",
    "        # get ln normal stats grain size distribution\n",
    "        df.loc[row[0], 'ln_grainsize_mean'] = np.mean(np.log(realizations))\n",
    "        df.loc[row[0], 'ln_grainsize_std'] = np.std(np.log(realizations))\n",
    "        \n",
    "        # get log normal stats grain size distribution\n",
    "        df.loc[row[0], 'log10_grainsize_mean'] = np.mean(np.log10(realizations))\n",
    "        df.loc[row[0], 'log10_grainsize_std'] = np.std(np.log(realizations))\n",
    "        \n",
    "        # and median grain size\n",
    "        df.loc[row[0], 'median_grainsize'] = np.median(realizations)"
   ]
  },
  {
   "cell_type": "markdown",
   "metadata": {},
   "source": [
    "## Save modified csv file with calculated grain sizes:"
   ]
  },
  {
   "cell_type": "code",
   "execution_count": 48,
   "metadata": {},
   "outputs": [
    {
     "name": "stdout",
     "output_type": "stream",
     "text": [
      "modified .csv file:\n"
     ]
    },
    {
     "data": {
      "text/html": [
       "<div>\n",
       "<style scoped>\n",
       "    .dataframe tbody tr th:only-of-type {\n",
       "        vertical-align: middle;\n",
       "    }\n",
       "\n",
       "    .dataframe tbody tr th {\n",
       "        vertical-align: top;\n",
       "    }\n",
       "\n",
       "    .dataframe thead th {\n",
       "        text-align: right;\n",
       "    }\n",
       "</style>\n",
       "<table border=\"1\" class=\"dataframe\">\n",
       "  <thead>\n",
       "    <tr style=\"text-align: right;\">\n",
       "      <th></th>\n",
       "      <th>well</th>\n",
       "      <th>sample_number</th>\n",
       "      <th>depth</th>\n",
       "      <th>strat_unit</th>\n",
       "      <th>strat_unit_Heederik1988</th>\n",
       "      <th>clay_percentage</th>\n",
       "      <th>0-2_micron</th>\n",
       "      <th>2-4_micron</th>\n",
       "      <th>4-8_micron</th>\n",
       "      <th>8-16_micron</th>\n",
       "      <th>...</th>\n",
       "      <th>smectite_fraction</th>\n",
       "      <th>mixed_layer_fraction</th>\n",
       "      <th>chlorite_fraction</th>\n",
       "      <th>note</th>\n",
       "      <th>specific_surface_granular_fraction</th>\n",
       "      <th>ln_grainsize_mean</th>\n",
       "      <th>ln_grainsize_std</th>\n",
       "      <th>log10_grainsize_mean</th>\n",
       "      <th>log10_grainsize_std</th>\n",
       "      <th>median_grainsize</th>\n",
       "    </tr>\n",
       "  </thead>\n",
       "  <tbody>\n",
       "    <tr>\n",
       "      <th>0</th>\n",
       "      <td>AST-02</td>\n",
       "      <td>79</td>\n",
       "      <td>1517.25</td>\n",
       "      <td>NLLFR</td>\n",
       "      <td>Basaal Zand van Dongen</td>\n",
       "      <td>16.1</td>\n",
       "      <td>16.1</td>\n",
       "      <td>4.8</td>\n",
       "      <td>6.6</td>\n",
       "      <td>7.1</td>\n",
       "      <td>...</td>\n",
       "      <td>0.35</td>\n",
       "      <td>NaN</td>\n",
       "      <td>NaN</td>\n",
       "      <td>clay composition estimated</td>\n",
       "      <td>101.068461</td>\n",
       "      <td>-10.271430</td>\n",
       "      <td>1.113890</td>\n",
       "      <td>-4.460825</td>\n",
       "      <td>1.113890</td>\n",
       "      <td>0.000064</td>\n",
       "    </tr>\n",
       "    <tr>\n",
       "      <th>1</th>\n",
       "      <td>AST-02</td>\n",
       "      <td>80</td>\n",
       "      <td>1517.75</td>\n",
       "      <td>NLLFR</td>\n",
       "      <td>Basaal Zand van Dongen</td>\n",
       "      <td>13.6</td>\n",
       "      <td>13.6</td>\n",
       "      <td>5.4</td>\n",
       "      <td>12.8</td>\n",
       "      <td>13.1</td>\n",
       "      <td>...</td>\n",
       "      <td>0.35</td>\n",
       "      <td>NaN</td>\n",
       "      <td>NaN</td>\n",
       "      <td>clay composition estimated</td>\n",
       "      <td>143.549090</td>\n",
       "      <td>-10.703097</td>\n",
       "      <td>1.101795</td>\n",
       "      <td>-4.648296</td>\n",
       "      <td>1.101795</td>\n",
       "      <td>0.000034</td>\n",
       "    </tr>\n",
       "    <tr>\n",
       "      <th>2</th>\n",
       "      <td>AST-02</td>\n",
       "      <td>81</td>\n",
       "      <td>1518.22</td>\n",
       "      <td>NLLFR</td>\n",
       "      <td>Basaal Zand van Dongen</td>\n",
       "      <td>56.7</td>\n",
       "      <td>56.7</td>\n",
       "      <td>0.0</td>\n",
       "      <td>1.6</td>\n",
       "      <td>1.6</td>\n",
       "      <td>...</td>\n",
       "      <td>0.35</td>\n",
       "      <td>NaN</td>\n",
       "      <td>NaN</td>\n",
       "      <td>clay composition estimated</td>\n",
       "      <td>24.265495</td>\n",
       "      <td>-9.856121</td>\n",
       "      <td>0.592011</td>\n",
       "      <td>-4.280459</td>\n",
       "      <td>0.592011</td>\n",
       "      <td>0.000063</td>\n",
       "    </tr>\n",
       "    <tr>\n",
       "      <th>3</th>\n",
       "      <td>AST-02</td>\n",
       "      <td>82</td>\n",
       "      <td>1518.75</td>\n",
       "      <td>NLLFR</td>\n",
       "      <td>Basaal Zand van Dongen</td>\n",
       "      <td>16.2</td>\n",
       "      <td>16.2</td>\n",
       "      <td>6.4</td>\n",
       "      <td>8.1</td>\n",
       "      <td>6.8</td>\n",
       "      <td>...</td>\n",
       "      <td>0.35</td>\n",
       "      <td>NaN</td>\n",
       "      <td>NaN</td>\n",
       "      <td>clay composition estimated</td>\n",
       "      <td>117.839434</td>\n",
       "      <td>-10.345082</td>\n",
       "      <td>1.112403</td>\n",
       "      <td>-4.492812</td>\n",
       "      <td>1.112403</td>\n",
       "      <td>0.000068</td>\n",
       "    </tr>\n",
       "    <tr>\n",
       "      <th>4</th>\n",
       "      <td>AST-02</td>\n",
       "      <td>83</td>\n",
       "      <td>1519.25</td>\n",
       "      <td>NLLFR</td>\n",
       "      <td>Basaal Zand van Dongen</td>\n",
       "      <td>16.5</td>\n",
       "      <td>16.5</td>\n",
       "      <td>6.9</td>\n",
       "      <td>12.6</td>\n",
       "      <td>10.9</td>\n",
       "      <td>...</td>\n",
       "      <td>0.35</td>\n",
       "      <td>NaN</td>\n",
       "      <td>NaN</td>\n",
       "      <td>clay composition estimated</td>\n",
       "      <td>148.004649</td>\n",
       "      <td>-10.629948</td>\n",
       "      <td>1.034580</td>\n",
       "      <td>-4.616528</td>\n",
       "      <td>1.034580</td>\n",
       "      <td>0.000034</td>\n",
       "    </tr>\n",
       "  </tbody>\n",
       "</table>\n",
       "<p>5 rows × 63 columns</p>\n",
       "</div>"
      ],
      "text/plain": [
       "     well  sample_number    depth strat_unit strat_unit_Heederik1988  \\\n",
       "0  AST-02             79  1517.25      NLLFR  Basaal Zand van Dongen   \n",
       "1  AST-02             80  1517.75      NLLFR  Basaal Zand van Dongen   \n",
       "2  AST-02             81  1518.22      NLLFR  Basaal Zand van Dongen   \n",
       "3  AST-02             82  1518.75      NLLFR  Basaal Zand van Dongen   \n",
       "4  AST-02             83  1519.25      NLLFR  Basaal Zand van Dongen   \n",
       "\n",
       "   clay_percentage  0-2_micron  2-4_micron  4-8_micron  8-16_micron  \\\n",
       "0             16.1        16.1         4.8         6.6          7.1   \n",
       "1             13.6        13.6         5.4        12.8         13.1   \n",
       "2             56.7        56.7         0.0         1.6          1.6   \n",
       "3             16.2        16.2         6.4         8.1          6.8   \n",
       "4             16.5        16.5         6.9        12.6         10.9   \n",
       "\n",
       "         ...         smectite_fraction  mixed_layer_fraction  \\\n",
       "0        ...                      0.35                   NaN   \n",
       "1        ...                      0.35                   NaN   \n",
       "2        ...                      0.35                   NaN   \n",
       "3        ...                      0.35                   NaN   \n",
       "4        ...                      0.35                   NaN   \n",
       "\n",
       "   chlorite_fraction                        note  \\\n",
       "0                NaN  clay composition estimated   \n",
       "1                NaN  clay composition estimated   \n",
       "2                NaN  clay composition estimated   \n",
       "3                NaN  clay composition estimated   \n",
       "4                NaN  clay composition estimated   \n",
       "\n",
       "   specific_surface_granular_fraction  ln_grainsize_mean  ln_grainsize_std  \\\n",
       "0                          101.068461         -10.271430          1.113890   \n",
       "1                          143.549090         -10.703097          1.101795   \n",
       "2                           24.265495          -9.856121          0.592011   \n",
       "3                          117.839434         -10.345082          1.112403   \n",
       "4                          148.004649         -10.629948          1.034580   \n",
       "\n",
       "   log10_grainsize_mean  log10_grainsize_std  median_grainsize  \n",
       "0             -4.460825             1.113890          0.000064  \n",
       "1             -4.648296             1.101795          0.000034  \n",
       "2             -4.280459             0.592011          0.000063  \n",
       "3             -4.492812             1.112403          0.000068  \n",
       "4             -4.616528             1.034580          0.000034  \n",
       "\n",
       "[5 rows x 63 columns]"
      ]
     },
     "execution_count": 48,
     "metadata": {},
     "output_type": "execute_result"
    }
   ],
   "source": [
    "print('modified .csv file:')\n",
    "df.head()"
   ]
  },
  {
   "cell_type": "code",
   "execution_count": 49,
   "metadata": {},
   "outputs": [
    {
     "name": "stdout",
     "output_type": "stream",
     "text": [
      "saving new csv file inlcuding grain size distribution stats and calculated specific surface to  data/porperm_data_well_AST02_with_spec_surf.csv\n"
     ]
    }
   ],
   "source": [
    "fn_out = filename[:-4] + '_with_spec_surf.csv'\n",
    "print('saving new csv file inlcuding grain size distribution stats and calculated specific surface to ', fn_out)\n",
    "df.to_csv(fn_out)"
   ]
  },
  {
   "cell_type": "markdown",
   "metadata": {},
   "source": [
    "## Make a figure with grain size distributions and specific surface"
   ]
  },
  {
   "cell_type": "code",
   "execution_count": 50,
   "metadata": {},
   "outputs": [
    {
     "name": "stdout",
     "output_type": "stream",
     "text": [
      "saving figure as  figs/porperm_data_well_AST02_grain_sizes_and_spec_surfaces.png\n"
     ]
    },
    {
     "data": {
      "image/png": "[encoded data removed]",
      "text/plain": [
       "<matplotlib.figure.Figure at 0x7f465a2c9400>"
      ]
     },
     "metadata": {
      "needs_background": "light"
     },
     "output_type": "display_data"
    }
   ],
   "source": [
    "fig, axs = pl.subplots(2, 1, figsize=(8, 6), sharex=True)\n",
    "\n",
    "# plot grain size distributions:\n",
    "lines = []\n",
    "for row in df.iterrows():\n",
    "    l = axs[0].plot(np.log10(gs_bin_mean*1e-6), row[1][grain_size_ind1:grain_size_ind2].values.astype(float) / 100.0)\n",
    "    lines.append(l)\n",
    "    \n",
    "colors = [l[-1].get_color() for l in lines]\n",
    "\n",
    "axs[1].scatter(df['log10_grainsize_mean'], df['specific_surface_granular_fraction'], c=colors)\n",
    "\n",
    "\n",
    "axs[1].set_xlabel('Log grain size (m)')\n",
    "\n",
    "axs[0].set_ylabel('Grain size fraction')\n",
    "axs[1].set_ylabel('Calculated specific surface (m$^2$ kg$^{-1}$)')\n",
    "\n",
    "fn1 = os.path.split(filename)[-1][:-4]\n",
    "fn2 = fn1 + '_grain_sizes_and_spec_surfaces.png'\n",
    "fig_fn = os.path.join('figs', fn2)\n",
    "print('saving figure as ', fig_fn)\n",
    "fig.savefig(fig_fn)\n",
    "\n",
    "#axs[0].set_xlabel('Log grain size (m)')"
   ]
  },
  {
   "cell_type": "markdown",
   "metadata": {},
   "source": [
    "**Fig. caption** *Top panel: grain size distributions, bottom panel: calculated specific surface vs mean grain size*"
   ]
  },
  {
   "cell_type": "code",
   "execution_count": null,
   "metadata": {},
   "outputs": [],
   "source": []
  },
  {
   "cell_type": "code",
   "execution_count": null,
   "metadata": {},
   "outputs": [],
   "source": []
  }
 ],
 "metadata": {
  "kernelspec": {
   "display_name": "Python 3",
   "language": "python",
   "name": "python3"
  },
  "language_info": {
   "codemirror_mode": {
    "name": "ipython",
    "version": 3
   },
   "file_extension": ".py",
   "mimetype": "text/x-python",
   "name": "python",
   "nbconvert_exporter": "python",
   "pygments_lexer": "ipython3",
   "version": "3.6.8"
  }
 },
 "nbformat": 4,
 "nbformat_minor": 2
}
