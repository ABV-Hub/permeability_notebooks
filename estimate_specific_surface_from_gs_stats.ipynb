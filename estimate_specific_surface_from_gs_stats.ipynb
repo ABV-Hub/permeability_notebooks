{
 "cells": [
  {
   "cell_type": "markdown",
   "metadata": {},
   "source": [
    "# Estimate specific surface using grain size distribution statistics\n",
    "\n",
    "Loads grains size statistics (mean, stdev) from a .csv file, generate grain size distribution and calculate specific surface following eq. 2 in Luijendijk and Gleeson (2015, Geofluids 15, or Crustal permeability book chapter 2016) ([link](https://onlinelibrary.wiley.com/doi/full/10.1111/gfl.12115)).\n",
    "\n",
    "and example csv file that contains grain size data from a borehole in the southern netherlands is located in the subdirectory data [here](data/porperm_data_well_AST02.csv).\n",
    "\n",
    "Note that by default this notebook calculate the specific surface of the granular fraction only using truncated normal or log-normal distributions where grains that are smaller than 2 micron are discarded."
   ]
  },
  {
   "cell_type": "markdown",
   "metadata": {},
   "source": [
    "## Import Python modules\n"
   ]
  },
  {
   "cell_type": "code",
   "execution_count": 35,
   "metadata": {},
   "outputs": [],
   "source": [
    "import math\n",
    "import os\n",
    "import numpy as np\n",
    "import scipy.stats\n",
    "import pandas as pd\n",
    "import matplotlib.pyplot as pl"
   ]
  },
  {
   "cell_type": "markdown",
   "metadata": {},
   "source": [
    "## Some important variables:"
   ]
  },
  {
   "cell_type": "code",
   "execution_count": 36,
   "metadata": {},
   "outputs": [],
   "source": [
    "# name of file with grain size distribution data\n",
    "filename = 'data/example_dataset_seafloor_sediments.csv'\n",
    "\n",
    "# density of the solid matrix of the sediment\n",
    "rho_s = 2650.0\n",
    "\n",
    "# cutoff for distinguishing clay and non-clay / granular sediments (m)\n",
    "# the default value is 2.0 micron, but higher values are also sometimes used\n",
    "clay_cutoff = 4.0e-6\n",
    "\n",
    "# normal or log-normal grain size distribution\n",
    "log_transform = False\n",
    "\n",
    "# column names for mean, stdev grain size:\n",
    "gs_mean_column = 'grain_size_mean'\n",
    "gs_std_column = 'grain_size_stdev'"
   ]
  },
  {
   "cell_type": "markdown",
   "metadata": {},
   "source": [
    "## Set up a function to calculate specific surface"
   ]
  },
  {
   "cell_type": "code",
   "execution_count": 37,
   "metadata": {},
   "outputs": [],
   "source": [
    "def calculate_specific_surface_discrete(grain_size, freq, rho_s):\n",
    "    \n",
    "    \"\"\"\n",
    "    calculate specific surface\n",
    "    eq. ... in \n",
    "    \"\"\"\n",
    "    \n",
    "    ss = 6.0 / rho_s * (freq / grain_size).sum()\n",
    "    \n",
    "    return ss"
   ]
  },
  {
   "cell_type": "markdown",
   "metadata": {},
   "source": [
    "## Function to generate distributions"
   ]
  },
  {
   "cell_type": "code",
   "execution_count": 38,
   "metadata": {},
   "outputs": [],
   "source": [
    "def generate_gs_distributions(gs_mean, gs_std,\n",
    "                              rho_s=2650.0, \n",
    "                              clay_cutoff=2.0e-6,\n",
    "                              log_transform=True):\n",
    "    \"\"\"\n",
    "    calculate specific surface for granular fraction (ie. > 2 um)\n",
    "    input: grainsize distribution, mean log10(grainsize), std log10(grainsize)\n",
    "\n",
    "    \"\"\"\n",
    "    \n",
    "    # grain size bins\n",
    "    if log_transform is True:\n",
    "        gs_sim = np.arange(-7.0, -1, 0.01)\n",
    "    else:\n",
    "        gs_sim = 10**np.arange(-7.0, -1, 0.01)\n",
    "        \n",
    "    # calculate cdf\n",
    "    cdf_gs = scipy.stats.norm.cdf(gs_sim, gs_mean, gs_std)\n",
    "    \n",
    "    # convert to frequency for each bin\n",
    "    freq_gs = cdf_gs.copy()\n",
    "    freq_gs[1:] = (cdf_gs[1:] - cdf_gs[:-1])\n",
    "    \n",
    "    # convert grainsize to real units\n",
    "    if log_transform is True:\n",
    "        bins_gs = (10**gs_sim).copy()\n",
    "    else:\n",
    "        bins_gs = gs_sim\n",
    "\n",
    "    # take middle of bin\n",
    "    bins_gs[1:] = (bins_gs[1:] + bins_gs[:-1]) / 2.0\n",
    "    \n",
    "    # remove clay fraction\n",
    "    freq_gs[bins_gs < 2e-6] = 0\n",
    "    \n",
    "    return bins_gs, freq_gs"
   ]
  },
  {
   "cell_type": "markdown",
   "metadata": {},
   "source": [
    "## load grain size data"
   ]
  },
  {
   "cell_type": "code",
   "execution_count": 39,
   "metadata": {},
   "outputs": [],
   "source": [
    "df = pd.read_csv(filename)"
   ]
  },
  {
   "cell_type": "markdown",
   "metadata": {},
   "source": [
    "## generate grain size distributions"
   ]
  },
  {
   "cell_type": "code",
   "execution_count": 40,
   "metadata": {},
   "outputs": [],
   "source": [
    "gs_freq_all = []\n",
    "for ix in df.index:\n",
    "    bins_gs, freq_gs = generate_gs_distributions(df.loc[ix, gs_mean_column], \n",
    "                                                 df.loc[ix, gs_std_column],\n",
    "                                                 rho_s=rho_s, \n",
    "                                                 clay_cutoff=clay_cutoff,\n",
    "                                                 log_transform=log_transform)\n",
    "    gs_freq_all.append(freq_gs)\n",
    "    \n",
    "    df.loc[ix, 'specific_surface_granular_fraction'] = \\\n",
    "        calculate_specific_surface_discrete(bins_gs, freq_gs, rho_s)\n",
    " "
   ]
  },
  {
   "cell_type": "markdown",
   "metadata": {},
   "source": [
    "## Save modified csv file with calculated grain sizes:"
   ]
  },
  {
   "cell_type": "code",
   "execution_count": 41,
   "metadata": {},
   "outputs": [
    {
     "name": "stdout",
     "output_type": "stream",
     "text": [
      "saving new csv file inlcuding grain size distribution stats and calculated specific surface to  data/example_dataset_seafloor_sediments_with_spec_surf.csv\n"
     ]
    }
   ],
   "source": [
    "fn_out = filename[:-4] + '_with_spec_surf.csv'\n",
    "print('saving new csv file inlcuding grain size distribution stats and calculated specific surface to ', fn_out)\n",
    "df.to_csv(fn_out)"
   ]
  },
  {
   "cell_type": "code",
   "execution_count": 42,
   "metadata": {},
   "outputs": [
    {
     "data": {
      "text/html": [
       "<div>\n",
       "<style scoped>\n",
       "    .dataframe tbody tr th:only-of-type {\n",
       "        vertical-align: middle;\n",
       "    }\n",
       "\n",
       "    .dataframe tbody tr th {\n",
       "        vertical-align: top;\n",
       "    }\n",
       "\n",
       "    .dataframe thead th {\n",
       "        text-align: right;\n",
       "    }\n",
       "</style>\n",
       "<table border=\"1\" class=\"dataframe\">\n",
       "  <thead>\n",
       "    <tr style=\"text-align: right;\">\n",
       "      <th></th>\n",
       "      <th>sample</th>\n",
       "      <th>clay_fraction</th>\n",
       "      <th>porosity</th>\n",
       "      <th>permeability_measured</th>\n",
       "      <th>kaolinite_fraction</th>\n",
       "      <th>illite_fraction</th>\n",
       "      <th>smectite_fraction</th>\n",
       "      <th>grain_size_mean</th>\n",
       "      <th>grain_size_stdev</th>\n",
       "      <th>specific_surface_granular_fraction</th>\n",
       "    </tr>\n",
       "  </thead>\n",
       "  <tbody>\n",
       "    <tr>\n",
       "      <th>0</th>\n",
       "      <td>190-1173A-31X-1,135-150</td>\n",
       "      <td>0.86</td>\n",
       "      <td>0.66</td>\n",
       "      <td>2.500000e-17</td>\n",
       "      <td>0.16</td>\n",
       "      <td>0.34</td>\n",
       "      <td>0.43</td>\n",
       "      <td>0.000002</td>\n",
       "      <td>0.000002</td>\n",
       "      <td>377.785799</td>\n",
       "    </tr>\n",
       "    <tr>\n",
       "      <th>1</th>\n",
       "      <td>190-1173A-31X-1,135-150</td>\n",
       "      <td>0.86</td>\n",
       "      <td>0.66</td>\n",
       "      <td>2.400000e-17</td>\n",
       "      <td>0.16</td>\n",
       "      <td>0.34</td>\n",
       "      <td>0.43</td>\n",
       "      <td>0.000002</td>\n",
       "      <td>0.000002</td>\n",
       "      <td>377.785799</td>\n",
       "    </tr>\n",
       "    <tr>\n",
       "      <th>2</th>\n",
       "      <td>190-1173A-31X-1,135-150</td>\n",
       "      <td>0.86</td>\n",
       "      <td>0.66</td>\n",
       "      <td>2.500000e-17</td>\n",
       "      <td>0.16</td>\n",
       "      <td>0.34</td>\n",
       "      <td>0.43</td>\n",
       "      <td>0.000002</td>\n",
       "      <td>0.000002</td>\n",
       "      <td>377.785799</td>\n",
       "    </tr>\n",
       "    <tr>\n",
       "      <th>3</th>\n",
       "      <td>190-1173A-31X-1,135-150</td>\n",
       "      <td>0.86</td>\n",
       "      <td>0.66</td>\n",
       "      <td>4.870000e-17</td>\n",
       "      <td>0.16</td>\n",
       "      <td>0.34</td>\n",
       "      <td>0.43</td>\n",
       "      <td>0.000002</td>\n",
       "      <td>0.000002</td>\n",
       "      <td>377.785799</td>\n",
       "    </tr>\n",
       "    <tr>\n",
       "      <th>4</th>\n",
       "      <td>190-1173A-31X-1,135-150</td>\n",
       "      <td>0.86</td>\n",
       "      <td>0.66</td>\n",
       "      <td>1.800000e-17</td>\n",
       "      <td>0.16</td>\n",
       "      <td>0.34</td>\n",
       "      <td>0.43</td>\n",
       "      <td>0.000002</td>\n",
       "      <td>0.000002</td>\n",
       "      <td>377.785799</td>\n",
       "    </tr>\n",
       "  </tbody>\n",
       "</table>\n",
       "</div>"
      ],
      "text/plain": [
       "                    sample  clay_fraction  porosity  permeability_measured  \\\n",
       "0  190-1173A-31X-1,135-150           0.86      0.66           2.500000e-17   \n",
       "1  190-1173A-31X-1,135-150           0.86      0.66           2.400000e-17   \n",
       "2  190-1173A-31X-1,135-150           0.86      0.66           2.500000e-17   \n",
       "3  190-1173A-31X-1,135-150           0.86      0.66           4.870000e-17   \n",
       "4  190-1173A-31X-1,135-150           0.86      0.66           1.800000e-17   \n",
       "\n",
       "   kaolinite_fraction  illite_fraction  smectite_fraction  grain_size_mean  \\\n",
       "0                0.16             0.34               0.43         0.000002   \n",
       "1                0.16             0.34               0.43         0.000002   \n",
       "2                0.16             0.34               0.43         0.000002   \n",
       "3                0.16             0.34               0.43         0.000002   \n",
       "4                0.16             0.34               0.43         0.000002   \n",
       "\n",
       "   grain_size_stdev  specific_surface_granular_fraction  \n",
       "0          0.000002                          377.785799  \n",
       "1          0.000002                          377.785799  \n",
       "2          0.000002                          377.785799  \n",
       "3          0.000002                          377.785799  \n",
       "4          0.000002                          377.785799  "
      ]
     },
     "execution_count": 42,
     "metadata": {},
     "output_type": "execute_result"
    }
   ],
   "source": [
    "df.head()"
   ]
  },
  {
   "cell_type": "markdown",
   "metadata": {},
   "source": [
    "## Make a figure with grain size distributions and specific surface"
   ]
  },
  {
   "cell_type": "code",
   "execution_count": 43,
   "metadata": {},
   "outputs": [
    {
     "name": "stdout",
     "output_type": "stream",
     "text": [
      "saving figure as  figs/example_dataset_seafloor_sediments_grain_sizes_and_spec_surfaces.png\n"
     ]
    },
    {
     "data": {
      "image/png": "[encoded data removed]",
      "text/plain": [
       "<matplotlib.figure.Figure at 0x7fb3a67f8ba8>"
      ]
     },
     "metadata": {
      "needs_background": "light"
     },
     "output_type": "display_data"
    }
   ],
   "source": [
    "fig, axs = pl.subplots(2, 1, figsize=(8, 6), sharex=True)\n",
    "\n",
    "# plot grain size distributions:\n",
    "lines = []\n",
    "for freq in gs_freq_all:\n",
    "    l = axs[0].plot(np.log10(bins_gs), freq)\n",
    "    lines.append(l)\n",
    "    \n",
    "colors = [l[-1].get_color() for l in lines]\n",
    "\n",
    "axs[1].scatter(np.log10(df[gs_mean_column]), df['specific_surface_granular_fraction'], \n",
    "               c=colors)\n",
    "\n",
    "axs[1].set_xlabel('Log grain size (m)')\n",
    "\n",
    "axs[0].set_ylabel('Grain size fraction')\n",
    "axs[1].set_ylabel('Calculated specific surface (m$^2$ kg$^{-1}$)')\n",
    "\n",
    "fn1 = os.path.split(filename)[-1][:-4]\n",
    "fn2 = fn1 + '_grain_sizes_and_spec_surfaces.png'\n",
    "fig_fn = os.path.join('figs', fn2)\n",
    "print('saving figure as ', fig_fn)\n",
    "fig.savefig(fig_fn)\n",
    "\n",
    "#axs[0].set_xlabel('Log grain size (m)')"
   ]
  },
  {
   "cell_type": "markdown",
   "metadata": {},
   "source": [
    "**Fig. caption** *Top panel: grain size distributions, bottom panel: calculated specific surface vs mean grain size*"
   ]
  },
  {
   "cell_type": "code",
   "execution_count": null,
   "metadata": {},
   "outputs": [],
   "source": []
  }
 ],
 "metadata": {
  "kernelspec": {
   "display_name": "Python 3",
   "language": "python",
   "name": "python3"
  },
  "language_info": {
   "codemirror_mode": {
    "name": "ipython",
    "version": 3
   },
   "file_extension": ".py",
   "mimetype": "text/x-python",
   "name": "python",
   "nbconvert_exporter": "python",
   "pygments_lexer": "ipython3",
   "version": "3.6.8"
  }
 },
 "nbformat": 4,
 "nbformat_minor": 2
}
